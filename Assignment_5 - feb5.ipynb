{
 "cells": [
  {
   "cell_type": "code",
   "execution_count": null,
   "id": "dbc3475b-8d48-497d-aa38-1c740d5ae458",
   "metadata": {},
   "outputs": [],
   "source": [
    "Q1. In object-oriented programming, a class is a blueprint or a template that defines the attributes (data) and behaviours (method/function) of an object.\n",
    "    Object is an instance of class spececifies vealues for its attributes and can perform action through its behaviors.\n",
    "    Ex, class 'car' attributes and can perform action through its behaviors. And object of this class can be created, with details of its specific detailing giving further info. about it.\n",
    "    for instance 'make' = \"Toyota\", 'model' = \"fortuner', 'year' = \"2020\" and 'color' = \"white\""
   ]
  },
  {
   "cell_type": "code",
   "execution_count": null,
   "id": "e46c65d8-9654-48ac-85e1-633ce64867f6",
   "metadata": {},
   "outputs": [],
   "source": [
    "Q2. Four pillars of oops are:\n",
    "    1. Encaptulation: The mechanism of hiding the internal details of an object and providing a public interface to access and manupulate the object.\n",
    "    2. Inheritance: The process of creting new class by inheriting he properties and behavior of existing classes. It promotes code reuse and helps to create a hierarchial class structure.\n",
    "    3. Polymorphism: The ability of objects to take multiple forms or brhaviours based on the context in which they are used. It allows object of different types to be treated as if they were of same type.\n",
    "    4. Abstraction: The process of simplyfying complex systems by identifying the essential features and ignoring the non-essential details. it allows us to create abstract class and interfaces that define\n",
    "       the common properties and behaviours of a group of related objects.\n",
    "    "
   ]
  },
  {
   "cell_type": "code",
   "execution_count": null,
   "id": "0deb05c0-2a9f-46a4-aa54-8004212a7902",
   "metadata": {},
   "outputs": [],
   "source": [
    "Q3. '__init__()' function is a special method that automatically called when an object is created. It is used to initialize the attributes of the object and perform any setup tasks that ae required."
   ]
  },
  {
   "cell_type": "code",
   "execution_count": 1,
   "id": "67f20864-7579-4c5a-a53b-118ba3493f7a",
   "metadata": {},
   "outputs": [],
   "source": [
    "class person:\n",
    "    def __init__(self, name, age):\n",
    "        self.name = name\n",
    "        self.age = age\n",
    "        \n",
    "    def get_details(self):\n",
    "        print(f\"Name: {self.name}\")\n",
    "        print(f\"Age: {self.age}\")"
   ]
  },
  {
   "cell_type": "code",
   "execution_count": 3,
   "id": "d48857fd-2a09-4da0-8549-3a28f6311c4b",
   "metadata": {},
   "outputs": [],
   "source": [
    "Rohan = person('R' ,22)"
   ]
  },
  {
   "cell_type": "code",
   "execution_count": 4,
   "id": "f7d0ebbe-1aaf-4ec6-872a-54849d7d2cc5",
   "metadata": {},
   "outputs": [
    {
     "name": "stdout",
     "output_type": "stream",
     "text": [
      "Name: R\n",
      "Age: 22\n"
     ]
    }
   ],
   "source": [
    "Rohan.get_details()"
   ]
  },
  {
   "cell_type": "code",
   "execution_count": 5,
   "id": "df019a04-283d-4230-8f19-c5e168afdc07",
   "metadata": {},
   "outputs": [
    {
     "ename": "SyntaxError",
     "evalue": "unterminated string literal (detected at line 1) (1883545837.py, line 1)",
     "output_type": "error",
     "traceback": [
      "\u001b[0;36m  Cell \u001b[0;32mIn [5], line 1\u001b[0;36m\u001b[0m\n\u001b[0;31m    Q4. 'self' is a special variable that refers to the current object or instance of a class. it is a way for methods within a class to refer to the object that they are being called on, and to access and modify the object's attributes\u001b[0m\n\u001b[0m                                                                                                                                                                                                                               ^\u001b[0m\n\u001b[0;31mSyntaxError\u001b[0m\u001b[0;31m:\u001b[0m unterminated string literal (detected at line 1)\n"
     ]
    }
   ],
   "source": [
    "Q4. 'self' is a special variable that refers to the current object or instance of a class. it is a way for methods within a class to refer to the object that they are being called on, and to access and modify the object's attributes."
   ]
  },
  {
   "cell_type": "code",
   "execution_count": null,
   "id": "aae0b3d0-4a9d-48cf-b939-9a24b1f8ddda",
   "metadata": {},
   "outputs": [],
   "source": [
    "Q5. Inheritance is a fundamental concept in OOPS that allows us to create new classes by inheriting propeties and behaviour from existing classes. In python, a class can inherit from one or more parent classes, \n",
    "    and it can add new attributies and method or modify the inherited ones."
   ]
  },
  {
   "cell_type": "code",
   "execution_count": null,
   "id": "de9ecf9a-93e1-4837-8360-d6556de53859",
   "metadata": {},
   "outputs": [],
   "source": [
    "single Inheritance: In single inheritance, a child class inherits from a single parent class. It is the most common type of inheritance."
   ]
  },
  {
   "cell_type": "code",
   "execution_count": 7,
   "id": "0763ef86-fcc0-4b93-b2ec-67f582a91941",
   "metadata": {},
   "outputs": [
    {
     "name": "stdout",
     "output_type": "stream",
     "text": [
      "Alvis\n",
      "Woof!\n"
     ]
    }
   ],
   "source": [
    "class animal:\n",
    "    def __init__(self, name):\n",
    "        self.name = name\n",
    "        \n",
    "    def speak(self):\n",
    "        pass\n",
    "\n",
    "class dog(animal):\n",
    "    def speak(self):\n",
    "        return \"Woof!\"\n",
    "    \n",
    "dog = dog(\"Alvis\")\n",
    "print(dog.name)\n",
    "print(dog.speak())"
   ]
  },
  {
   "cell_type": "code",
   "execution_count": null,
   "id": "b40cd5ef-176d-4712-bfa0-628aea2f4923",
   "metadata": {},
   "outputs": [],
   "source": [
    "Multiple inheritance: In multipleinheritance, a child class inherits from multiple parent class. It allows the child class to combine the properties and behavior of its parent classes."
   ]
  },
  {
   "cell_type": "code",
   "execution_count": 10,
   "id": "d43ce4ae-8341-4741-a461-468775ba14a1",
   "metadata": {},
   "outputs": [
    {
     "name": "stdout",
     "output_type": "stream",
     "text": [
      "tesla model s 2022 500\n",
      "charging\n",
      "Driving on electricity\n"
     ]
    }
   ],
   "source": [
    "class car:\n",
    "    def __init__(self, make, model, year):\n",
    "        self.make = make\n",
    "        self.model = model\n",
    "        self.year = year\n",
    "        \n",
    "class electric:\n",
    "    def __init__(self, range):\n",
    "        self.range = range\n",
    "        \n",
    "    def charge(self):\n",
    "        return \"charging\"\n",
    "    \n",
    "class tesla(car, electric):\n",
    "    def __init__(self, make, model, year, range):\n",
    "        car.__init__(self, make, model, year)\n",
    "        electric.__init__(self, range)\n",
    "                 \n",
    "    def drive(self):\n",
    "        return \"Driving on electricity\"\n",
    "                 \n",
    "tesla = tesla(\"tesla\", \"model s\",2022, 500)\n",
    "print(tesla.make, tesla.model, tesla.year, tesla.range)\n",
    "print(tesla.charge())\n",
    "print(tesla.drive())"
   ]
  },
  {
   "cell_type": "code",
   "execution_count": null,
   "id": "7a92d982-610b-47b5-9d38-db4d8148d46a",
   "metadata": {},
   "outputs": [],
   "source": []
  }
 ],
 "metadata": {
  "kernelspec": {
   "display_name": "Python 3 (ipykernel)",
   "language": "python",
   "name": "python3"
  },
  "language_info": {
   "codemirror_mode": {
    "name": "ipython",
    "version": 3
   },
   "file_extension": ".py",
   "mimetype": "text/x-python",
   "name": "python",
   "nbconvert_exporter": "python",
   "pygments_lexer": "ipython3",
   "version": "3.10.6"
  }
 },
 "nbformat": 4,
 "nbformat_minor": 5
}
